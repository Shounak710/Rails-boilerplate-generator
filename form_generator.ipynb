{
 "cells": [
  {
   "cell_type": "code",
   "execution_count": 1,
   "metadata": {},
   "outputs": [],
   "source": [
    "import os"
   ]
  },
  {
   "cell_type": "code",
   "execution_count": 1,
   "metadata": {},
   "outputs": [],
   "source": [
    "class FormGenerator:\n",
    "\n",
    "  def __init__(self, module_name, namespace, route_singular, object_attributes):\n",
    "    self.module_name = module_name\n",
    "    self.namespace = namespace\n",
    "    self.route_singular = route_singular\n",
    "\n",
    "    self.object_attributes = object_attributes # Passed as a Python list. e.g.: ['attr_1', 'attr_2']\n",
    "\n",
    "    self.class_name = self.__get_class_name()\n",
    "    self.attribute_dict = self.__get_attribute_dict()\n",
    "    self.object_attributes = self.__stringify_object_attributes()\n",
    "\n",
    "    %run 'file_writer.ipynb'\n",
    "\n",
    "  def create_form(self):\n",
    "    template_file_path = \"templates/forms/sample_form.rb\"\n",
    "    target_file_path = self.__get_target_file_path()\n",
    "\n",
    "    fw = FileWriter(\n",
    "      template_file_path=template_file_path,\n",
    "      target_file_path=target_file_path,\n",
    "      **self.__dict__\n",
    "    )\n",
    "\n",
    "    fw.create_file()\n",
    "\n",
    "  def create_form_spec(self):\n",
    "    template_file_path = \"templates/specs/forms/sample_form_spec.rb\"\n",
    "    target_file_path = self.__get_spec_target_file_path()\n",
    "\n",
    "    fw = FileWriter(\n",
    "      template_file_path=template_file_path,\n",
    "      target_file_path=target_file_path,\n",
    "      **self.__dict__\n",
    "    )\n",
    "\n",
    "    fw.create_file()\n",
    "\n",
    "  def __get_target_file_path(self):\n",
    "    directory = f\"app/forms/{self.namespace}\"\n",
    "\n",
    "    if not os.path.exists(directory):\n",
    "      os.makedirs(directory)\n",
    "\n",
    "    return f\"{directory}/{self.route_singular}_form.rb\"\n",
    "\n",
    "  def __get_spec_target_file_path(self):\n",
    "    directory = f\"specs/forms/{self.namespace}\"\n",
    "\n",
    "    if not os.path.exists(directory):\n",
    "      os.makedirs(directory)\n",
    "\n",
    "    return f\"{directory}/{self.route_singular}_form_spec.rb\"\n",
    "\n",
    "  def __get_attribute_dict(self):\n",
    "    attribute_dict = \"{ \"\n",
    "\n",
    "    attribute_dict += ', '.join(f\"{attribute}: {attribute}\" for attribute in self.object_attributes)\n",
    "\n",
    "    return attribute_dict + \" }\"\n",
    "\n",
    "  def __stringify_object_attributes(self):\n",
    "    return ', '.join(f\":{attribute}\" for attribute in self.object_attributes)\n",
    "\n",
    "  def __get_class_name(self):\n",
    "    class_name = ''.join(v.capitalize() for v in self.route_singular.split('_'))\n",
    "    return f\"{self.module_name}::{class_name}\""
   ]
  },
  {
   "cell_type": "code",
   "execution_count": null,
   "metadata": {},
   "outputs": [],
   "source": []
  }
 ],
 "metadata": {
  "kernelspec": {
   "display_name": "dyson",
   "language": "python",
   "name": "python3"
  },
  "language_info": {
   "codemirror_mode": {
    "name": "ipython",
    "version": 3
   },
   "file_extension": ".py",
   "mimetype": "text/x-python",
   "name": "python",
   "nbconvert_exporter": "python",
   "pygments_lexer": "ipython3",
   "version": "3.11.8"
  }
 },
 "nbformat": 4,
 "nbformat_minor": 2
}
