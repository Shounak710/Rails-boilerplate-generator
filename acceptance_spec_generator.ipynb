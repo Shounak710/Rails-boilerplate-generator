{
 "cells": [
  {
   "cell_type": "code",
   "execution_count": 1,
   "metadata": {},
   "outputs": [],
   "source": [
    "import os"
   ]
  },
  {
   "cell_type": "code",
   "execution_count": null,
   "metadata": {},
   "outputs": [],
   "source": [
    "class AcceptanceSpecGenerator:\n",
    "  def __init__(self, namespace, route, module_name, route_singular, route_actions, object_attributes):\n",
    "    self.namespace = namespace.lower()\n",
    "    self.api_url = f\"{namespace.lower()}/{route}\"\n",
    "    self.class_namespace = '::'.join(v.capitalize() for v in namespace.split('/'))\n",
    "    self.route = route\n",
    "    self.route_singular = route_singular\n",
    "    self.route_capitalized = route.capitalize()\n",
    "    self.route_singular_capitalized = route_singular.capitalize()\n",
    "    self.pascalcase_route_singular = ''.join(word.capitalize() for word in route_singular.split('_'))\n",
    "    self.route_actions = route_actions\n",
    "    self.class_name = f\"{module_name}::{route.capitalize()}\"\n",
    "    self.object_attributes = object_attributes\n",
    "    self.parameter_explanations = self.__get_parameter_explanations()\n",
    "\n",
    "    %run 'file_writer.ipynb'\n",
    "\n",
    "  def add_specs(self):\n",
    "    actions = []\n",
    "    \n",
    "    if 'C' in self.route_actions:\n",
    "      actions.append('create')\n",
    "\n",
    "    if 'R' in self.route_actions:\n",
    "      actions.append('index')\n",
    "      actions.append('show')\n",
    "\n",
    "    if 'U' in self.route_actions:\n",
    "      actions.append('update')\n",
    "\n",
    "    if 'D' in self.route_actions:\n",
    "      actions.append('destroy')\n",
    "\n",
    "    for action in actions:\n",
    "      self.__create_spec(action)\n",
    "\n",
    "  def __get_parameter_explanations(self):\n",
    "    expl = ''\n",
    "\n",
    "    for attr in self.object_attributes:\n",
    "      expl += f\"parameter :{attr}, \\\"\\\", required: false\\n\"\n",
    "\n",
    "    return expl\n",
    "  \n",
    "  def __create_spec(self, action_name):\n",
    "    template_file_path = f\"templates/spec/acceptance/{action_name}_spec.rb\"\n",
    "    \n",
    "    target_directory = f\"spec/acceptance/{self.namespace}/{self.route}\"\n",
    "    target_file_path = f\"{target_directory}/{action_name}_spec.rb\"\n",
    "\n",
    "    fw = FileWriter(\n",
    "      target_file_path=target_file_path,\n",
    "      template_file_path=template_file_path,\n",
    "      **self.__dict__\n",
    "    )\n",
    "\n",
    "    fw.create_file()"
   ]
  }
 ],
 "metadata": {
  "kernelspec": {
   "display_name": "dyson",
   "language": "python",
   "name": "python3"
  },
  "language_info": {
   "codemirror_mode": {
    "name": "ipython",
    "version": 3
   },
   "file_extension": ".py",
   "mimetype": "text/x-python",
   "name": "python",
   "nbconvert_exporter": "python",
   "pygments_lexer": "ipython3",
   "version": "3.11.8"
  }
 },
 "nbformat": 4,
 "nbformat_minor": 2
}
