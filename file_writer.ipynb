{
 "cells": [
  {
   "cell_type": "code",
   "execution_count": 1,
   "metadata": {},
   "outputs": [],
   "source": [
    "import os"
   ]
  },
  {
   "cell_type": "code",
   "execution_count": null,
   "metadata": {},
   "outputs": [],
   "source": [
    "class FileWriter:\n",
    "  def __init__(self, template_file_path, target_file_path, **kwargs):\n",
    "    self.template_file = template_file_path\n",
    "    self.target_file = target_file_path\n",
    "\n",
    "    for key, value in kwargs.items():\n",
    "      setattr(self, key, value)\n",
    "\n",
    "    self.lines = []\n",
    "\n",
    "  def create_file(self):\n",
    "    self.__format_lines()\n",
    "    self.__write_to_file()\n",
    "  \n",
    "  def __format_lines(self):\n",
    "    self.lines = []\n",
    "    \n",
    "    with open(self.template_file, \"r\") as file:\n",
    "      lines = file.readlines()\n",
    "\n",
    "    for line in lines:\n",
    "      self.lines.append(line.format(**self.__dict__))\n",
    "\n",
    "  def __write_to_file(self):\n",
    "    target_directory = '/'.join(self.target_file.split('/')[:-1])\n",
    "\n",
    "    if not os.path.exists(target_directory):\n",
    "      os.makedirs(target_directory)\n",
    "    \n",
    "    with open(self.target_file, 'w') as file:\n",
    "      for line in self.lines:\n",
    "        file.write(line)"
   ]
  }
 ],
 "metadata": {
  "kernelspec": {
   "display_name": "dyson",
   "language": "python",
   "name": "python3"
  },
  "language_info": {
   "codemirror_mode": {
    "name": "ipython",
    "version": 3
   },
   "file_extension": ".py",
   "mimetype": "text/x-python",
   "name": "python",
   "nbconvert_exporter": "python",
   "pygments_lexer": "ipython3",
   "version": "3.11.8"
  }
 },
 "nbformat": 4,
 "nbformat_minor": 2
}
