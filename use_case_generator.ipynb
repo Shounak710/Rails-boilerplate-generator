{
 "cells": [
  {
   "cell_type": "code",
   "execution_count": 87,
   "metadata": {},
   "outputs": [],
   "source": [
    "import os"
   ]
  },
  {
   "cell_type": "code",
   "execution_count": 173,
   "metadata": {},
   "outputs": [],
   "source": [
    "module_names = ''\n",
    "\n",
    "class UseCaseGenerator:\n",
    "\n",
    "  def __init__(self, namespace, route, module_name, route_singular, route_actions, filter_params, sort_params):\n",
    "    self.namespace = namespace.capitalize()\n",
    "    self.route = route\n",
    "    self.route_singular = route_singular\n",
    "    self.pascalcase_route_singular = ''.join(word.capitalize() for word in route_singular.split('_'))\n",
    "    self.route_actions = route_actions\n",
    "    self.filter_params = filter_params\n",
    "    self.sort_params = sort_params\n",
    "    self.module_name = module_name\n",
    "    self.lines = []\n",
    "\n",
    "  def formatted_lines(self, action_name):\n",
    "    self.lines = []\n",
    "    \n",
    "    with open(f\"templates/use_cases/{action_name}_case.rb\", \"r\") as file:\n",
    "      lines = file.readlines()\n",
    "\n",
    "    for line in lines:\n",
    "      self.lines.append(line.format(**globals()))\n",
    "\n",
    "  def write_to_file(self, action_name):\n",
    "    directory = f\"app/use_cases/{self.namespace.lower()}/{self.route}\"\n",
    "\n",
    "    if not os.path.exists(directory):\n",
    "      os.makedirs(directory)\n",
    "\n",
    "    file_path = f\"{directory}/{action_name}_case.rb\"\n",
    "    \n",
    "    with open(file_path, 'w') as file:\n",
    "      for line in self.lines:\n",
    "        file.write(line)    "
   ]
  },
  {
   "cell_type": "code",
   "execution_count": 174,
   "metadata": {},
   "outputs": [],
   "source": [
    "ucg = UseCaseGenerator(\"finances/new_folder\", \"transactions_new\", \"Finances::Transactions\", \"transaction_new\", \"CRU\", None, None)\n",
    "#ucg.formatted_lines()"
   ]
  },
  {
   "cell_type": "code",
   "execution_count": 175,
   "metadata": {},
   "outputs": [],
   "source": [
    "def add_use_cases(ucg_object):\n",
    "  for key, value in ucg_object.__dict__.items():\n",
    "    globals()[key] = value\n",
    "\n",
    "  actions = []\n",
    "  \n",
    "  if 'C' in route_actions:\n",
    "    actions.append('create')\n",
    "\n",
    "  if 'R' in route_actions:\n",
    "    actions.append('index')\n",
    "    actions.append('show')\n",
    "\n",
    "  if 'U' in route_actions:\n",
    "    actions.append('update')\n",
    "\n",
    "  if 'D' in route_actions:\n",
    "    actions.append('destroy')\n",
    "\n",
    "  for action in actions:\n",
    "    ucg_object.formatted_lines(action)\n",
    "    ucg_object.write_to_file(action)"
   ]
  },
  {
   "cell_type": "code",
   "execution_count": 176,
   "metadata": {},
   "outputs": [],
   "source": [
    "add_use_cases(ucg)"
   ]
  },
  {
   "cell_type": "code",
   "execution_count": null,
   "metadata": {},
   "outputs": [],
   "source": []
  }
 ],
 "metadata": {
  "kernelspec": {
   "display_name": "dyson",
   "language": "python",
   "name": "python3"
  },
  "language_info": {
   "codemirror_mode": {
    "name": "ipython",
    "version": 3
   },
   "file_extension": ".py",
   "mimetype": "text/x-python",
   "name": "python",
   "nbconvert_exporter": "python",
   "pygments_lexer": "ipython3",
   "version": "3.11.8"
  }
 },
 "nbformat": 4,
 "nbformat_minor": 2
}
