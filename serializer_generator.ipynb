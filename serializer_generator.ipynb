{
 "cells": [
  {
   "cell_type": "code",
   "execution_count": 1,
   "metadata": {},
   "outputs": [],
   "source": [
    "import os"
   ]
  },
  {
   "cell_type": "code",
   "execution_count": null,
   "metadata": {},
   "outputs": [],
   "source": [
    "class SerializerGenerator:\n",
    "  def __init__(self, module_name, namespace, route_singular, object_attributes):\n",
    "    self.module_name = module_name\n",
    "    print(\"Module name:\", self.module_name)\n",
    "    self.namespace = namespace\n",
    "    self.route_singular = route_singular\n",
    "\n",
    "    self.object_attributes = object_attributes # Passed as a Python list. e.g.: ['attr_1', 'attr_2']\n",
    "    self.object_attributes.append('id')\n",
    "    self.object_attributes = sorted(self.object_attributes)\n",
    "\n",
    "    self.class_name = self.get_class_name()\n",
    "    print(\"Class name: \", self.class_name)\n",
    "    self.object_attributes = self.get_object_attributes()\n",
    "\n",
    "    self.lines = []\n",
    "\n",
    "  def create_serializer(self):\n",
    "    self.formatted_lines()\n",
    "    self.write_to_file()\n",
    "\n",
    "  def get_object_attributes(self):\n",
    "    object_attributes = self.object_attributes\n",
    "    attributes = \"\"\n",
    "\n",
    "    for attribute in object_attributes:\n",
    "      attributes += f\":{attribute}, \"\n",
    "\n",
    "    return attributes[:-2]\n",
    "\n",
    "  def get_class_name(self):\n",
    "    class_name = ''.join(v.capitalize() for v in self.route_singular.split('_'))\n",
    "    return f\"{self.module_name}::{class_name}\"\n",
    "  \n",
    "  def formatted_lines(self):\n",
    "    self.lines = []\n",
    "    \n",
    "    with open(f\"templates/serializers/sample_serializer.rb\", \"r\") as file:\n",
    "      lines = file.readlines()\n",
    "\n",
    "    for line in lines:\n",
    "      self.lines.append(line.format(**self.__dict__))\n",
    "\n",
    "  def write_to_file(self):\n",
    "    directory = f\"app/serializers/{self.namespace}\"\n",
    "\n",
    "    if not os.path.exists(directory):\n",
    "      os.makedirs(directory)\n",
    "\n",
    "    file_path = f\"{directory}/{self.route_singular}_serializer.rb\"\n",
    "    \n",
    "    with open(file_path, 'w') as file:\n",
    "      for line in self.lines:\n",
    "        file.write(line)"
   ]
  }
 ],
 "metadata": {
  "kernelspec": {
   "display_name": "dyson",
   "language": "python",
   "name": "python3"
  },
  "language_info": {
   "codemirror_mode": {
    "name": "ipython",
    "version": 3
   },
   "file_extension": ".py",
   "mimetype": "text/x-python",
   "name": "python",
   "nbconvert_exporter": "python",
   "pygments_lexer": "ipython3",
   "version": "3.11.8"
  }
 },
 "nbformat": 4,
 "nbformat_minor": 2
}
