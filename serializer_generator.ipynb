{
 "cells": [
  {
   "cell_type": "code",
   "execution_count": 1,
   "metadata": {},
   "outputs": [],
   "source": [
    "import os"
   ]
  },
  {
   "cell_type": "code",
   "execution_count": 3,
   "metadata": {},
   "outputs": [],
   "source": [
    "class SerializerGenerator:\n",
    "  def __init__(self, module_name, namespace, route_singular, object_attributes):\n",
    "    self.module_name = module_name\n",
    "    self.namespace = namespace\n",
    "    self.route_singular = route_singular    \n",
    "    self.class_name = self.__get_class_name()\n",
    "\n",
    "    self.object_attributes = object_attributes # Passed as a Python list. e.g.: ['attr_1', 'attr_2']\n",
    "    self.object_attributes = self.__stringify_object_attributes()\n",
    "\n",
    "    %run 'file_writer.ipynb' # Import FileWriter class\n",
    "\n",
    "  def create_serializer(self):\n",
    "    target_file_path = f\"app/serializers/{self.namespace}/{self.route_singular}_serializer.rb\"\n",
    "    template_file_path = \"templates/serializers/sample_serializer.rb\"\n",
    "\n",
    "    fw = FileWriter(\n",
    "      target_file_path=target_file_path,\n",
    "      template_file_path=template_file_path,\n",
    "      module_name=self.module_name,\n",
    "      namespace=self.namespace,\n",
    "      route_singular=self.route_singular,\n",
    "      class_name=self.class_name,\n",
    "      object_attributes=self.object_attributes\n",
    "    )\n",
    "    \n",
    "    fw.create_file()\n",
    "\n",
    "  def __stringify_object_attributes(self):\n",
    "    return ', '.join(f\":{attribute}\" for attribute in self.object_attributes)\n",
    "\n",
    "  def __get_class_name(self):\n",
    "    class_name = ''.join(v.capitalize() for v in self.route_singular.split('_'))\n",
    "    return f\"{self.module_name}::{class_name}\""
   ]
  },
  {
   "cell_type": "code",
   "execution_count": null,
   "metadata": {},
   "outputs": [],
   "source": []
  }
 ],
 "metadata": {
  "kernelspec": {
   "display_name": "dyson",
   "language": "python",
   "name": "python3"
  },
  "language_info": {
   "codemirror_mode": {
    "name": "ipython",
    "version": 3
   },
   "file_extension": ".py",
   "mimetype": "text/x-python",
   "name": "python",
   "nbconvert_exporter": "python",
   "pygments_lexer": "ipython3",
   "version": "3.11.8"
  }
 },
 "nbformat": 4,
 "nbformat_minor": 2
}
