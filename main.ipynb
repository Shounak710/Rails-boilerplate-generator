{
 "cells": [
  {
   "cell_type": "code",
   "execution_count": 10,
   "metadata": {},
   "outputs": [],
   "source": [
    "import os\n",
    "import json"
   ]
  },
  {
   "cell_type": "code",
   "execution_count": 2,
   "metadata": {},
   "outputs": [
    {
     "data": {
      "text/plain": [
       "'finances/transactions'"
      ]
     },
     "execution_count": 2,
     "metadata": {},
     "output_type": "execute_result"
    }
   ],
   "source": [
    "endpoint_namespace = input(\"enter enpoint namespace: \")\n",
    "endpoint_route = input(\"enter enpoint route: \")\n",
    "\n",
    "endpoint_namespace + '/' + endpoint_route"
   ]
  },
  {
   "cell_type": "code",
   "execution_count": 6,
   "metadata": {},
   "outputs": [],
   "source": [
    "directory = f'app/controllers/{endpoint_namespace}'\n",
    "\n",
    "if not os.path.exists(directory):\n",
    "  os.makedirs(directory)"
   ]
  },
  {
   "cell_type": "code",
   "execution_count": 18,
   "metadata": {},
   "outputs": [],
   "source": [
    "filename = endpoint_route + '_controller.rb'"
   ]
  },
  {
   "cell_type": "code",
   "execution_count": 19,
   "metadata": {},
   "outputs": [
    {
     "data": {
      "text/plain": [
       "'app/controllers/finances/transactions_controller.rb'"
      ]
     },
     "execution_count": 19,
     "metadata": {},
     "output_type": "execute_result"
    }
   ],
   "source": [
    "filepath = os.path.join(directory, filename)\n",
    "filepath"
   ]
  },
  {
   "cell_type": "code",
   "execution_count": 20,
   "metadata": {},
   "outputs": [
    {
     "data": {
      "text/plain": [
       "'Finances::TransactionsController'"
      ]
     },
     "execution_count": 20,
     "metadata": {},
     "output_type": "execute_result"
    }
   ],
   "source": [
    "controller_name = endpoint_namespace.capitalize() + '::' + endpoint_route.capitalize() + 'Controller'\n",
    "controller_name"
   ]
  },
  {
   "cell_type": "code",
   "execution_count": 22,
   "metadata": {},
   "outputs": [
    {
     "data": {
      "text/plain": [
       "'CRUD'"
      ]
     },
     "execution_count": 22,
     "metadata": {},
     "output_type": "execute_result"
    }
   ],
   "source": [
    "route_actions = input('Actions to be added (CRUD): ').upper()\n",
    "route_actions"
   ]
  },
  {
   "cell_type": "code",
   "execution_count": 49,
   "metadata": {},
   "outputs": [],
   "source": [
    "if 'C' in route_actions or 'U' in route_actions:\n",
    "  object_params = input('input the payload format of creating or updating the object, as a dictionary: ')\n",
    "  # object_params must be input in proper format for conversion to json dictionary\n",
    "  # for ex.: {'transactions': ['method_id', 'category_id', 'type', 'amount', 'memo']}\n",
    "  # the '' commas around each word are important, or else JSON won't be able to parse\n",
    "  # Can also use \"\" instead of ''\n",
    "  object_params"
   ]
  },
  {
   "cell_type": "code",
   "execution_count": 50,
   "metadata": {},
   "outputs": [
    {
     "name": "stdout",
     "output_type": "stream",
     "text": [
      "obj before {'transactions': ['method_id', 'category_id', 'type', 'amount', 'memo']}\n",
      "obj after {'transactions': ['method_id', 'category_id', 'type', 'amount', 'memo']}\n"
     ]
    }
   ],
   "source": [
    "print('obj before', object_params)\n",
    "object_params = object_params.replace(\"'\", '\"')\n",
    "object_params = json.loads(object_params)\n",
    "print('obj after', object_params)"
   ]
  },
  {
   "cell_type": "code",
   "execution_count": 21,
   "metadata": {},
   "outputs": [],
   "source": [
    "with open(filepath, 'w') as file:\n",
    "  file.write(f'class {controller_name}')\n"
   ]
  },
  {
   "cell_type": "code",
   "execution_count": null,
   "metadata": {},
   "outputs": [],
   "source": []
  }
 ],
 "metadata": {
  "kernelspec": {
   "display_name": "dyson",
   "language": "python",
   "name": "python3"
  },
  "language_info": {
   "codemirror_mode": {
    "name": "ipython",
    "version": 3
   },
   "file_extension": ".py",
   "mimetype": "text/x-python",
   "name": "python",
   "nbconvert_exporter": "python",
   "pygments_lexer": "ipython3",
   "version": "3.11.8"
  }
 },
 "nbformat": 4,
 "nbformat_minor": 2
}
