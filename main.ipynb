{
 "cells": [
  {
   "cell_type": "code",
   "execution_count": 176,
   "metadata": {},
   "outputs": [],
   "source": [
    "import json"
   ]
  },
  {
   "cell_type": "code",
   "execution_count": 177,
   "metadata": {},
   "outputs": [
    {
     "data": {
      "text/plain": [
       "'therapists/branches/reservations'"
      ]
     },
     "execution_count": 177,
     "metadata": {},
     "output_type": "execute_result"
    }
   ],
   "source": [
    "endpoint_namespace = input(\"enter enpoint namespace: \")\n",
    "endpoint_route = input(\"enter enpoint route: \")\n",
    "\n",
    "endpoint_namespace + '/' + endpoint_route"
   ]
  },
  {
   "cell_type": "code",
   "execution_count": 178,
   "metadata": {},
   "outputs": [
    {
     "data": {
      "text/plain": [
       "'reservation'"
      ]
     },
     "execution_count": 178,
     "metadata": {},
     "output_type": "execute_result"
    }
   ],
   "source": [
    "route_singular = input(\"enter singular form of the route: \")\n",
    "route_singular"
   ]
  },
  {
   "cell_type": "code",
   "execution_count": 179,
   "metadata": {},
   "outputs": [
    {
     "data": {
      "text/plain": [
       "'CRUD'"
      ]
     },
     "execution_count": 179,
     "metadata": {},
     "output_type": "execute_result"
    }
   ],
   "source": [
    "route_actions = input('Actions to be added (CRUD): ').upper()\n",
    "route_actions"
   ]
  },
  {
   "cell_type": "code",
   "execution_count": 193,
   "metadata": {},
   "outputs": [
    {
     "data": {
      "text/plain": [
       "'::Therapists::Branches'"
      ]
     },
     "execution_count": 193,
     "metadata": {},
     "output_type": "execute_result"
    }
   ],
   "source": [
    "module_name = '::'\n",
    "\n",
    "for name in endpoint_namespace.split('/'):\n",
    "  module_name += name.capitalize() + '::'\n",
    "\n",
    "module_name = module_name[:-2]\n",
    "module_name"
   ]
  },
  {
   "cell_type": "code",
   "execution_count": 181,
   "metadata": {},
   "outputs": [],
   "source": [
    "object_params = {}\n",
    "filter_params = \"\"\n",
    "sort_params = \"\"\n",
    "\n",
    "object_attributes = []"
   ]
  },
  {
   "cell_type": "code",
   "execution_count": 182,
   "metadata": {},
   "outputs": [
    {
     "name": "stdout",
     "output_type": "stream",
     "text": [
      "obj before {'reservation': ['start_time', 'end_time', 'branch_id', 'therapist_id']}\n",
      "obj after {'reservation': ['start_time', 'end_time', 'branch_id', 'therapist_id']}\n"
     ]
    }
   ],
   "source": [
    "if 'C' in route_actions or 'U' in route_actions:\n",
    "  object_params = input('input the payload format of creating or updating the object, as a dictionary: ')\n",
    "  # object_params must be input in proper format for conversion to json dictionary\n",
    "  # for ex.: {'transactions': ['method_id', 'category_id', 'type', 'amount', 'memo']}\n",
    "  # the '' commas around each word are important, or else JSON won't be able to parse\n",
    "  # Can also use \"\" instead of ''\n",
    "  object_params\n",
    "\n",
    "  print('obj before', object_params)\n",
    "  object_params = object_params.replace(\"'\", '\"')\n",
    "  object_params = json.loads(object_params)\n",
    "  print('obj after', object_params)\n",
    "\n",
    "  if(len(object_params.values()) > 0):\n",
    "    form_object_attributes = list(object_params.values())[0]"
   ]
  },
  {
   "cell_type": "code",
   "execution_count": 183,
   "metadata": {},
   "outputs": [
    {
     "data": {
      "text/plain": [
       "[]"
      ]
     },
     "execution_count": 183,
     "metadata": {},
     "output_type": "execute_result"
    }
   ],
   "source": [
    "list(object_params.values())[0]\n",
    "object_attributes"
   ]
  },
  {
   "cell_type": "code",
   "execution_count": 184,
   "metadata": {},
   "outputs": [
    {
     "name": "stdout",
     "output_type": "stream",
     "text": [
      ":branch_id, :therapist_id, :start_time, :end_time\n",
      ":start_time, :branch_id, :therapist_id\n"
     ]
    }
   ],
   "source": [
    "if 'R' in route_actions:\n",
    "  filter_params = input('input the comma-separated filter params: ') # Ex.: :method_id, :type, :category_id, :start_date, :end_date\n",
    "  sort_params = input('input the comma-separated sort params: ') # Ex. : :amount, :date\n",
    "  print(filter_params)\n",
    "  print(sort_params)"
   ]
  },
  {
   "cell_type": "code",
   "execution_count": 194,
   "metadata": {},
   "outputs": [],
   "source": [
    "%run 'controller_generator.ipynb'\n",
    "\n",
    "cg = ControllerGenerator(\n",
    "  endpoint_namespace=endpoint_namespace,\n",
    "  endpoint_route=endpoint_route,\n",
    "  route_singular=route_singular,\n",
    "  route_actions=route_actions,\n",
    "  module_name=module_name,\n",
    "  object_params=object_params,\n",
    "  filter_params=filter_params,\n",
    "  sort_params=sort_params\n",
    ")\n",
    "\n",
    "cg.write_to_file()"
   ]
  },
  {
   "cell_type": "code",
   "execution_count": 186,
   "metadata": {},
   "outputs": [
    {
     "data": {
      "text/plain": [
       "'CRUD'"
      ]
     },
     "execution_count": 186,
     "metadata": {},
     "output_type": "execute_result"
    }
   ],
   "source": [
    "route_actions"
   ]
  },
  {
   "cell_type": "code",
   "execution_count": 198,
   "metadata": {},
   "outputs": [],
   "source": [
    "%run 'use_case_generator.ipynb'\n",
    "\n",
    "ucg = UseCaseGenerator(\n",
    "  namespace=endpoint_namespace,\n",
    "  route=endpoint_route,\n",
    "  module_name=module_name,\n",
    "  route_singular=route_singular,\n",
    "  route_actions=route_actions\n",
    ")\n",
    "\n",
    "ucg.add_use_cases()"
   ]
  },
  {
   "cell_type": "code",
   "execution_count": 199,
   "metadata": {},
   "outputs": [],
   "source": [
    "if 'C' in route_actions or 'U' in route_actions:\n",
    "  %run 'form_generator.ipynb'\n",
    "\n",
    "  fg = FormGenerator(\n",
    "    namespace = endpoint_namespace,\n",
    "    route_singular = route_singular,\n",
    "    object_attributes = form_object_attributes\n",
    "  )\n",
    "\n",
    "  fg.create_form()"
   ]
  },
  {
   "cell_type": "code",
   "execution_count": null,
   "metadata": {},
   "outputs": [],
   "source": []
  }
 ],
 "metadata": {
  "kernelspec": {
   "display_name": "dyson",
   "language": "python",
   "name": "python3"
  },
  "language_info": {
   "codemirror_mode": {
    "name": "ipython",
    "version": 3
   },
   "file_extension": ".py",
   "mimetype": "text/x-python",
   "name": "python",
   "nbconvert_exporter": "python",
   "pygments_lexer": "ipython3",
   "version": "3.11.8"
  }
 },
 "nbformat": 4,
 "nbformat_minor": 2
}
