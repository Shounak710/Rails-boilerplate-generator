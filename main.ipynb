{
 "cells": [
  {
   "cell_type": "code",
   "execution_count": 162,
   "metadata": {},
   "outputs": [],
   "source": [
    "import os\n",
    "import json"
   ]
  },
  {
   "cell_type": "code",
   "execution_count": 163,
   "metadata": {},
   "outputs": [
    {
     "data": {
      "text/plain": [
       "'payments/methods'"
      ]
     },
     "execution_count": 163,
     "metadata": {},
     "output_type": "execute_result"
    }
   ],
   "source": [
    "endpoint_namespace = input(\"enter enpoint namespace: \")\n",
    "endpoint_route = input(\"enter enpoint route: \")\n",
    "\n",
    "endpoint_namespace + '/' + endpoint_route"
   ]
  },
  {
   "cell_type": "code",
   "execution_count": 164,
   "metadata": {},
   "outputs": [
    {
     "data": {
      "text/plain": [
       "'method'"
      ]
     },
     "execution_count": 164,
     "metadata": {},
     "output_type": "execute_result"
    }
   ],
   "source": [
    "route_singular = input(\"enter singular form of the route: \")\n",
    "route_singular"
   ]
  },
  {
   "cell_type": "code",
   "execution_count": 165,
   "metadata": {},
   "outputs": [],
   "source": [
    "directory = f'app/controllers/{endpoint_namespace}'\n",
    "\n",
    "if not os.path.exists(directory):\n",
    "  os.makedirs(directory)"
   ]
  },
  {
   "cell_type": "code",
   "execution_count": 166,
   "metadata": {},
   "outputs": [],
   "source": [
    "filename = endpoint_route + '_controller.rb'"
   ]
  },
  {
   "cell_type": "code",
   "execution_count": 167,
   "metadata": {},
   "outputs": [
    {
     "data": {
      "text/plain": [
       "'app/controllers/payments/methods_controller.rb'"
      ]
     },
     "execution_count": 167,
     "metadata": {},
     "output_type": "execute_result"
    }
   ],
   "source": [
    "filepath = os.path.join(directory, filename)\n",
    "filepath"
   ]
  },
  {
   "cell_type": "code",
   "execution_count": 168,
   "metadata": {},
   "outputs": [
    {
     "data": {
      "text/plain": [
       "'CRUD'"
      ]
     },
     "execution_count": 168,
     "metadata": {},
     "output_type": "execute_result"
    }
   ],
   "source": [
    "route_actions = input('Actions to be added (CRUD): ').upper()\n",
    "route_actions"
   ]
  },
  {
   "cell_type": "code",
   "execution_count": 169,
   "metadata": {},
   "outputs": [],
   "source": [
    "if 'C' in route_actions or 'U' in route_actions:\n",
    "  object_params = input('input the payload format of creating or updating the object, as a dictionary: ')\n",
    "  # object_params must be input in proper format for conversion to json dictionary\n",
    "  # for ex.: {'transactions': ['method_id', 'category_id', 'type', 'amount', 'memo']}\n",
    "  # the '' commas around each word are important, or else JSON won't be able to parse\n",
    "  # Can also use \"\" instead of ''\n",
    "  object_params"
   ]
  },
  {
   "cell_type": "code",
   "execution_count": 170,
   "metadata": {},
   "outputs": [
    {
     "name": "stdout",
     "output_type": "stream",
     "text": [
      "obj before {'methods': ['icon_name', 'name']}\n",
      "obj after {'methods': ['icon_name', 'name']}\n"
     ]
    }
   ],
   "source": [
    "print('obj before', object_params)\n",
    "object_params = object_params.replace(\"'\", '\"')\n",
    "object_params = json.loads(object_params)\n",
    "print('obj after', object_params)"
   ]
  },
  {
   "cell_type": "code",
   "execution_count": 171,
   "metadata": {},
   "outputs": [
    {
     "name": "stdout",
     "output_type": "stream",
     "text": [
      "\n",
      "\n"
     ]
    }
   ],
   "source": [
    "if 'R' in route_actions:\n",
    "  filter_params = input('input the comma-separated filter params: ') # Ex.: :method_id, :type, :category_id, :start_date, :end_date\n",
    "  sort_params = input('input the comma-separated sort params: ') # Ex. : :amount, :date\n",
    "  print(filter_params)\n",
    "  print(sort_params)"
   ]
  },
  {
   "cell_type": "code",
   "execution_count": 172,
   "metadata": {},
   "outputs": [
    {
     "data": {
      "text/plain": [
       "'::Payments::Methods'"
      ]
     },
     "execution_count": 172,
     "metadata": {},
     "output_type": "execute_result"
    }
   ],
   "source": [
    "module_name = '::' + endpoint_namespace.capitalize() + '::' + endpoint_route.capitalize()\n",
    "module_name"
   ]
  },
  {
   "cell_type": "code",
   "execution_count": 173,
   "metadata": {},
   "outputs": [
    {
     "data": {
      "text/plain": [
       "'::Payments::MethodsController'"
      ]
     },
     "execution_count": 173,
     "metadata": {},
     "output_type": "execute_result"
    }
   ],
   "source": [
    "controller_name = module_name + 'Controller'\n",
    "controller_name"
   ]
  },
  {
   "cell_type": "code",
   "execution_count": 174,
   "metadata": {},
   "outputs": [
    {
     "data": {
      "text/plain": [
       "['methods']"
      ]
     },
     "execution_count": 174,
     "metadata": {},
     "output_type": "execute_result"
    }
   ],
   "source": [
    "list(object_params.keys())"
   ]
  },
  {
   "cell_type": "code",
   "execution_count": 175,
   "metadata": {},
   "outputs": [],
   "source": [
    "if 'filter_param' in globals():\n",
    "  print(1)"
   ]
  },
  {
   "cell_type": "code",
   "execution_count": 176,
   "metadata": {},
   "outputs": [],
   "source": [
    "lines = [\n",
    "\"# frozen_string_literal: true\",\n",
    "\"\\n\",\n",
    "f\"class {controller_name} < ApplicationController\",\n",
    "f\"before_action :set_{route_singular}, only: [:show, :update, :destroy]\\n\"\n",
    "]\n",
    "\n",
    "\n",
    "index_function_lines=[\n",
    "     \"def index\",\n",
    "     f'''use_case = {module_name}::IndexCase.new(\n",
    "      filter_parameters: {filter_params},\n",
    "      sort_params: {sort_params},\n",
    "      page_parameters: page_parameters)\\n''',\n",
    "      \"result = use_case.perform\\n\",\n",
    "      f'''render json: result.items,\n",
    "                    meta: result.pagination,\n",
    "                    meta_key: :pagination,\n",
    "                    each_serializer: {module_name}Serializer''',\n",
    "      \"end\\n\"\n",
    "]\n",
    "\n",
    "show_function_lines = [\n",
    "  \"def show\",\n",
    "  f\"use_case = {module_name}::ShowCase.new(account: @account, id: @{route_singular}.id)\\n\",\n",
    "  \"result = use_case.perform\\n\",\n",
    "  f\"render json: result, serializer: {module_name}Serializer\",\n",
    "  \"end\\n\"\n",
    "]\n",
    "\n",
    "create_function_lines = [\n",
    "  \"def create\",\n",
    "  f\"use_case = {module_name}::CreateCase.new({route_singular}_params.merge(account: @account))\\n\",\n",
    "  \"result = use_case.perform\\n\",\n",
    "  \"if result.errors.any?\",\n",
    "  \"render json: { errors: result.errors }, status: :unprocessable_entity\",\n",
    "  \"else\",\n",
    "  f\"render json: result.record, serializer: {module_name}Serializer, status: :created\",\n",
    "  \"end\",\n",
    "  \"end\\n\"\n",
    "]\n",
    "\n",
    "update_function_lines = [\n",
    "  \"def update\",\n",
    "  f\"use_case = {module_name}::UpdateCase.new({route_singular}_params.merge(id: @{route_singular}.id, account: @account))\\n\",\n",
    "  \"result = use_case.perform\\n\",\n",
    "  \"if result.errors.any?\",\n",
    "  \"render json: { errors: result.errors }, status: :unprocessable_entity\",\n",
    "  \"else\",\n",
    "  f\"render json: result.record, serializer: {module_name}Serializer, status: :ok\",\n",
    "  \"end\",\n",
    "  \"end\\n\"\n",
    "]\n",
    "\n",
    "destroy_function_lines = [\n",
    "  \"def destroy\",\n",
    "  f\"use_case = {module_name}::DestroyCase.new(id: @{route_singular}.id, account: @account)\\n\",\n",
    "  \"use_case.perform\\n\",\n",
    "  \"if use_case.errors.any?\",\n",
    "  \"render json: { errors: use_case.errors }, status: :unprocessable_entity\",\n",
    "  \"else\",\n",
    "  \"head: :no_content\",\n",
    "  \"end\",\n",
    "  \"end\\n\"\n",
    "]\n",
    "\n",
    "if \"R\" in route_actions:\n",
    "  for line in index_function_lines:\n",
    "     lines.append(line)\n",
    "\n",
    "if \"C\" in route_actions:\n",
    "  for line in create_function_lines:\n",
    "     lines.append(line)\n",
    "\n",
    "if \"R\" in route_actions: # preserving order of index, create, show, so checking for 'R' twice\n",
    "  for line in show_function_lines:\n",
    "     lines.append(line)\n",
    "\n",
    "if \"U\" in route_actions:\n",
    "  for line in update_function_lines:\n",
    "     lines.append(line)\n",
    "\n",
    "if \"D\" in route_actions:\n",
    "  for line in destroy_function_lines:\n",
    "    lines.append(line)\n",
    "\n",
    "lines.append(\"private\\n\")\n",
    "\n",
    "object_param_items = ''\n",
    "for idx, item in enumerate(list(object_params.values())[0]):\n",
    "  object_param_items += f':{item}'\n",
    "\n",
    "  if idx != len(list(object_params.values())[0]) - 1:\n",
    "    object_param_items += ', '\n",
    "\n",
    "object_param_lines = [\n",
    "   f\"def {route_singular}_params\",\n",
    "   f'''params.require(:{list(object_params.keys())[0]})\n",
    "             .permit({object_param_items})''',\n",
    "   \"end\\n\"\n",
    "]\n",
    "\n",
    "if \"C\" in route_actions or \"U\" in route_actions:\n",
    "    for line in object_param_lines:\n",
    "      lines.append(line)\n",
    "\n",
    "filter_param_lines = [\n",
    "   \"def filter_params\",\n",
    "   f\"params.permit({filter_params})\",\n",
    "   \"end\\n\"\n",
    "]\n",
    "\n",
    "if \"filter_params\" in globals() and len(filter_params) > 0:\n",
    "  for line in filter_param_lines:\n",
    "    lines.append(line)\n",
    "\n",
    "sort_param_lines = [\n",
    "   \"def sort_parameters\",\n",
    "   f\"params.permit(sort: [{sort_params}])\",\n",
    "   \"end\\n\"\n",
    "]\n",
    "\n",
    "if \"sort_params\" in globals() and len(sort_params) > 0:\n",
    "  for line in sort_param_lines:\n",
    "    lines.append(line)\n",
    "\n",
    "set_route_singular_lines = [\n",
    "   f\"def set_{route_singular}\",\n",
    "   f\"@{route_singular} = @account.{endpoint_route}.find(params[:id])\",\n",
    "   \"end\"\n",
    "]\n",
    "\n",
    "for line in set_route_singular_lines:\n",
    "     lines.append(line)\n",
    "\n",
    "lines.append(\"end\")\n"
   ]
  },
  {
   "cell_type": "code",
   "execution_count": 177,
   "metadata": {},
   "outputs": [],
   "source": [
    "with open(filepath, 'w') as file:\n",
    "  for line in lines:\n",
    "    file.write(f\"{line}\\n\")\n",
    "  "
   ]
  },
  {
   "cell_type": "code",
   "execution_count": null,
   "metadata": {},
   "outputs": [],
   "source": []
  }
 ],
 "metadata": {
  "kernelspec": {
   "display_name": "dyson",
   "language": "python",
   "name": "python3"
  },
  "language_info": {
   "codemirror_mode": {
    "name": "ipython",
    "version": 3
   },
   "file_extension": ".py",
   "mimetype": "text/x-python",
   "name": "python",
   "nbconvert_exporter": "python",
   "pygments_lexer": "ipython3",
   "version": "3.11.8"
  }
 },
 "nbformat": 4,
 "nbformat_minor": 2
}
