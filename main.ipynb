{
 "cells": [
  {
   "cell_type": "code",
   "execution_count": 28,
   "metadata": {},
   "outputs": [],
   "source": [
    "import json\n",
    "import inflect\n",
    "\n",
    "i = inflect.engine()"
   ]
  },
  {
   "cell_type": "code",
   "execution_count": 30,
   "metadata": {},
   "outputs": [
    {
     "data": {
      "text/plain": [
       "'api/v1/therapists/branch/reservations'"
      ]
     },
     "execution_count": 30,
     "metadata": {},
     "output_type": "execute_result"
    }
   ],
   "source": [
    "endpoint = input(\"enter endpoint name: \")\n",
    "\n",
    "while(len(endpoint) == 0):\n",
    "  endpoint = input(\"enter valid endpoint name: \")\n",
    "\n",
    "names = endpoint.split('/')\n",
    "\n",
    "endpoint_route = names[-1]\n",
    "\n",
    "if(len(names) > 1):\n",
    "  endpoint_namespace = '/'.join(names[:-1])\n",
    "else:\n",
    "  endpoint_namespace = ''\n",
    "\n",
    "endpoint_namespace + '/' + endpoint_route"
   ]
  },
  {
   "cell_type": "code",
   "execution_count": 31,
   "metadata": {},
   "outputs": [
    {
     "data": {
      "text/plain": [
       "'reservation'"
      ]
     },
     "execution_count": 31,
     "metadata": {},
     "output_type": "execute_result"
    }
   ],
   "source": [
    "route_singular = i.singular_noun(endpoint_route)\n",
    "route_singular"
   ]
  },
  {
   "cell_type": "code",
   "execution_count": 32,
   "metadata": {},
   "outputs": [
    {
     "data": {
      "text/plain": [
       "'CRUD'"
      ]
     },
     "execution_count": 32,
     "metadata": {},
     "output_type": "execute_result"
    }
   ],
   "source": [
    "route_actions = input('Actions to be added (CRUD): ').upper()\n",
    "route_actions"
   ]
  },
  {
   "cell_type": "code",
   "execution_count": 33,
   "metadata": {},
   "outputs": [
    {
     "data": {
      "text/plain": [
       "'::Api::V1::Therapists::Branch'"
      ]
     },
     "execution_count": 33,
     "metadata": {},
     "output_type": "execute_result"
    }
   ],
   "source": [
    "module_name = '::'\n",
    "\n",
    "for name in endpoint_namespace.split('/'):\n",
    "  module_name += name.capitalize() + '::'\n",
    "\n",
    "module_name = module_name[:-2]\n",
    "module_name"
   ]
  },
  {
   "cell_type": "code",
   "execution_count": 34,
   "metadata": {},
   "outputs": [],
   "source": [
    "object_params = {}\n",
    "filter_params = \"\"\n",
    "sort_params = \"\""
   ]
  },
  {
   "cell_type": "code",
   "execution_count": 35,
   "metadata": {},
   "outputs": [
    {
     "name": "stdout",
     "output_type": "stream",
     "text": [
      "obj before {'reservation': ['therapist_id', 'branch_id', 'start_time', 'end_time', 'product_ids', 'item_ids']}\n",
      "obj after {'reservation': ['therapist_id', 'branch_id', 'start_time', 'end_time', 'product_ids', 'item_ids']}\n"
     ]
    }
   ],
   "source": [
    "object_params = input('input the payload format of creating or updating the object, as a dictionary: ')\n",
    "# object_params must be input in proper format for conversion to json dictionary\n",
    "# for ex.: {'transactions': ['method_id', 'category_id', 'type', 'amount', 'memo']}\n",
    "# the '' commas around each word are important, or else JSON won't be able to parse\n",
    "# Can also use \"\" instead of ''\n",
    "object_params\n",
    "\n",
    "print('obj before', object_params)\n",
    "object_params = object_params.replace(\"'\", '\"')\n",
    "object_params = json.loads(object_params)\n",
    "print('obj after', object_params)\n",
    "\n",
    "if(len(object_params.values()) > 0):\n",
    "  object_attributes = list(object_params.values())[0]\n",
    "  "
   ]
  },
  {
   "cell_type": "code",
   "execution_count": 36,
   "metadata": {},
   "outputs": [],
   "source": [
    "list(object_params.values())[0]\n",
    "\n",
    "if not 'id' in object_attributes:\n",
    "  object_attributes.append('id')\n",
    "\n",
    "object_attributes = sorted(object_attributes)"
   ]
  },
  {
   "cell_type": "code",
   "execution_count": 37,
   "metadata": {},
   "outputs": [
    {
     "name": "stdout",
     "output_type": "stream",
     "text": [
      ":branch_id, :end_time, :item_ids, :product_ids, :start_time, :therapist_id\n",
      ":branch_id, :end_time, :start_time\n"
     ]
    }
   ],
   "source": [
    "if 'R' in route_actions:\n",
    "  filter_params = input('input the comma-separated filter params: ') # Ex.: :method_id, :type, :category_id, :start_date, :end_date\n",
    "  sort_params = input('input the comma-separated sort params: ') # Ex. : :amount, :date\n",
    "\n",
    "  filter_params = ', '.join(sorted(filter_params.split(', ')))\n",
    "  sort_params = ', '.join(sorted(sort_params.split(', ')))\n",
    "\n",
    "  print(filter_params)\n",
    "  print(sort_params)"
   ]
  },
  {
   "cell_type": "code",
   "execution_count": 38,
   "metadata": {},
   "outputs": [],
   "source": [
    "%run 'controller_generator.ipynb'\n",
    "\n",
    "cg = ControllerGenerator(\n",
    "  endpoint_namespace=endpoint_namespace,\n",
    "  endpoint_route=endpoint_route,\n",
    "  route_singular=route_singular,\n",
    "  route_actions=route_actions,\n",
    "  module_name=module_name,\n",
    "  object_attributes = object_attributes,\n",
    "  object_params=object_params,\n",
    "  filter_params=filter_params,\n",
    "  sort_params=sort_params\n",
    ")\n",
    "\n",
    "cg.write_to_file()"
   ]
  },
  {
   "cell_type": "code",
   "execution_count": 39,
   "metadata": {},
   "outputs": [
    {
     "data": {
      "text/plain": [
       "'CRUD'"
      ]
     },
     "execution_count": 39,
     "metadata": {},
     "output_type": "execute_result"
    }
   ],
   "source": [
    "route_actions"
   ]
  },
  {
   "cell_type": "code",
   "execution_count": 40,
   "metadata": {},
   "outputs": [],
   "source": [
    "%run 'use_case_generator.ipynb'\n",
    "\n",
    "ucg = UseCaseGenerator(\n",
    "  namespace=endpoint_namespace,\n",
    "  route=endpoint_route,\n",
    "  module_name=module_name,\n",
    "  route_singular=route_singular,\n",
    "  route_actions=route_actions\n",
    ")\n",
    "\n",
    "ucg.add_use_cases()"
   ]
  },
  {
   "cell_type": "code",
   "execution_count": 41,
   "metadata": {},
   "outputs": [],
   "source": [
    "if 'C' in route_actions or 'U' in route_actions:\n",
    "  %run 'form_generator.ipynb'\n",
    "\n",
    "  fg = FormGenerator(\n",
    "    module_name = module_name,\n",
    "    namespace = endpoint_namespace,\n",
    "    route_singular = route_singular,\n",
    "    object_attributes = object_attributes\n",
    "  )\n",
    "\n",
    "  fg.create_form()\n",
    "  fg.create_form_spec()"
   ]
  },
  {
   "cell_type": "code",
   "execution_count": 42,
   "metadata": {},
   "outputs": [],
   "source": [
    "%run 'serializer_generator.ipynb'\n",
    "\n",
    "sg = SerializerGenerator(\n",
    "  module_name = module_name,\n",
    "  namespace = endpoint_namespace,\n",
    "  route_singular = route_singular,\n",
    "  object_attributes = object_attributes\n",
    ")\n",
    "\n",
    "sg.create_serializer()"
   ]
  },
  {
   "cell_type": "code",
   "execution_count": 43,
   "metadata": {},
   "outputs": [],
   "source": [
    "%run 'acceptance_spec_generator.ipynb'\n",
    "\n",
    "asg = AcceptanceSpecGenerator(\n",
    "  namespace=endpoint_namespace,\n",
    "  route=endpoint_route,\n",
    "  module_name=module_name,\n",
    "  route_singular=route_singular,\n",
    "  route_actions=route_actions,\n",
    "  object_attributes=object_attributes\n",
    ")\n",
    "\n",
    "asg.add_specs()"
   ]
  },
  {
   "cell_type": "code",
   "execution_count": null,
   "metadata": {},
   "outputs": [],
   "source": []
  }
 ],
 "metadata": {
  "kernelspec": {
   "display_name": "dyson",
   "language": "python",
   "name": "python3"
  },
  "language_info": {
   "codemirror_mode": {
    "name": "ipython",
    "version": 3
   },
   "file_extension": ".py",
   "mimetype": "text/x-python",
   "name": "python",
   "nbconvert_exporter": "python",
   "pygments_lexer": "ipython3",
   "version": "3.11.8"
  }
 },
 "nbformat": 4,
 "nbformat_minor": 2
}
